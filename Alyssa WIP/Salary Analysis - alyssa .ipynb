{
 "cells": [
  {
   "cell_type": "code",
   "execution_count": 1,
   "id": "62543419",
   "metadata": {},
   "outputs": [],
   "source": [
    "import pandas as pd\n",
    "import numpy as np\n",
    "import matplotlib.pyplot as plt\n",
    "import seaborn as sns\n",
    "import sqlite3"
   ]
  },
  {
   "cell_type": "code",
   "execution_count": 3,
   "id": "0c7de6f7",
   "metadata": {},
   "outputs": [
    {
     "data": {
      "text/html": [
       "<div>\n",
       "<style scoped>\n",
       "    .dataframe tbody tr th:only-of-type {\n",
       "        vertical-align: middle;\n",
       "    }\n",
       "\n",
       "    .dataframe tbody tr th {\n",
       "        vertical-align: top;\n",
       "    }\n",
       "\n",
       "    .dataframe thead th {\n",
       "        text-align: right;\n",
       "    }\n",
       "</style>\n",
       "<table border=\"1\" class=\"dataframe\">\n",
       "  <thead>\n",
       "    <tr style=\"text-align: right;\">\n",
       "      <th></th>\n",
       "      <th>CASE_NUMBER</th>\n",
       "      <th>CASE_STATUS</th>\n",
       "      <th>CASE_RECEIVED_DATE</th>\n",
       "      <th>DECISION_DATE</th>\n",
       "      <th>EMPLOYER_NAME</th>\n",
       "      <th>PREVAILING_WAGE_SUBMITTED</th>\n",
       "      <th>PREVAILING_WAGE_SUBMITTED_UNIT</th>\n",
       "      <th>PAID_WAGE_SUBMITTED</th>\n",
       "      <th>PAID_WAGE_SUBMITTED_UNIT</th>\n",
       "      <th>JOB_TITLE</th>\n",
       "      <th>...</th>\n",
       "      <th>PREVAILING_WAGE_SOC_TITLE</th>\n",
       "      <th>WORK_STATE</th>\n",
       "      <th>WORK_STATE_ABBREVIATION</th>\n",
       "      <th>WORK_POSTAL_CODE</th>\n",
       "      <th>FULL_TIME_POSITION_Y_N</th>\n",
       "      <th>VISA_CLASS</th>\n",
       "      <th>PREVAILING_WAGE_PER_YEAR</th>\n",
       "      <th>PAID_WAGE_PER_YEAR</th>\n",
       "      <th>JOB_TITLE_SUBGROUP</th>\n",
       "      <th>order</th>\n",
       "    </tr>\n",
       "  </thead>\n",
       "  <tbody>\n",
       "    <tr>\n",
       "      <th>0</th>\n",
       "      <td>I-200-14073-248840</td>\n",
       "      <td>denied</td>\n",
       "      <td>3/14/2014</td>\n",
       "      <td>3/21/2014</td>\n",
       "      <td>ADVANCED TECHNOLOGY GROUP USA, INC.</td>\n",
       "      <td>6217100.00</td>\n",
       "      <td>year</td>\n",
       "      <td>62171.00</td>\n",
       "      <td>year</td>\n",
       "      <td>SOFTWARE ENGINEER</td>\n",
       "      <td>...</td>\n",
       "      <td>Software Developers, Applications</td>\n",
       "      <td>Illinois</td>\n",
       "      <td>IL</td>\n",
       "      <td>NaN</td>\n",
       "      <td>y</td>\n",
       "      <td>H-1B</td>\n",
       "      <td>NaN</td>\n",
       "      <td>62171.0</td>\n",
       "      <td>software engineer</td>\n",
       "      <td>1</td>\n",
       "    </tr>\n",
       "    <tr>\n",
       "      <th>1</th>\n",
       "      <td>A-15061-55212</td>\n",
       "      <td>denied</td>\n",
       "      <td>3/19/2015</td>\n",
       "      <td>3/19/2015</td>\n",
       "      <td>SAN FRANCISCO STATE UNIVERSITY</td>\n",
       "      <td>5067600.00</td>\n",
       "      <td>year</td>\n",
       "      <td>91440.00</td>\n",
       "      <td>year</td>\n",
       "      <td>Assistant Professor of Marketing</td>\n",
       "      <td>...</td>\n",
       "      <td>Business Teachers, Postsecondary</td>\n",
       "      <td>California</td>\n",
       "      <td>CA</td>\n",
       "      <td>94132.0</td>\n",
       "      <td>NaN</td>\n",
       "      <td>greencard</td>\n",
       "      <td>NaN</td>\n",
       "      <td>91440.0</td>\n",
       "      <td>assistant professor</td>\n",
       "      <td>2</td>\n",
       "    </tr>\n",
       "    <tr>\n",
       "      <th>2</th>\n",
       "      <td>I-200-13256-001092</td>\n",
       "      <td>denied</td>\n",
       "      <td>9/13/2013</td>\n",
       "      <td>9/23/2013</td>\n",
       "      <td>CAROUSEL SCHOOL</td>\n",
       "      <td>4947000.00</td>\n",
       "      <td>year</td>\n",
       "      <td>49470.00</td>\n",
       "      <td>year</td>\n",
       "      <td>SPECIAL EDUCATION TEACHER</td>\n",
       "      <td>...</td>\n",
       "      <td>Special Education Teachers, Kindergarten and E...</td>\n",
       "      <td>California</td>\n",
       "      <td>CA</td>\n",
       "      <td>NaN</td>\n",
       "      <td>y</td>\n",
       "      <td>H-1B</td>\n",
       "      <td>NaN</td>\n",
       "      <td>49470.0</td>\n",
       "      <td>teacher</td>\n",
       "      <td>3</td>\n",
       "    </tr>\n",
       "    <tr>\n",
       "      <th>3</th>\n",
       "      <td>I-200-14087-353657</td>\n",
       "      <td>denied</td>\n",
       "      <td>3/28/2014</td>\n",
       "      <td>4/7/2014</td>\n",
       "      <td>HARLINGEN CONSOLIDATED INDEPENDENT SCHOOL DIST...</td>\n",
       "      <td>251052.00</td>\n",
       "      <td>month</td>\n",
       "      <td>43800.00</td>\n",
       "      <td>year</td>\n",
       "      <td>SCIENCE TEACHER</td>\n",
       "      <td>...</td>\n",
       "      <td>Biological Science Teachers, Postsecondary</td>\n",
       "      <td>Texas</td>\n",
       "      <td>TX</td>\n",
       "      <td>NaN</td>\n",
       "      <td>y</td>\n",
       "      <td>H-1B</td>\n",
       "      <td>NaN</td>\n",
       "      <td>43800.0</td>\n",
       "      <td>teacher</td>\n",
       "      <td>4</td>\n",
       "    </tr>\n",
       "    <tr>\n",
       "      <th>4</th>\n",
       "      <td>I-203-14259-128844</td>\n",
       "      <td>denied</td>\n",
       "      <td>9/16/2014</td>\n",
       "      <td>9/23/2014</td>\n",
       "      <td>SIGNAL SCIENCES CORPORATION</td>\n",
       "      <td>84573.00</td>\n",
       "      <td>bi-weekly</td>\n",
       "      <td>170000.00</td>\n",
       "      <td>year</td>\n",
       "      <td>SENIOR SOFTWARE ENGINEER</td>\n",
       "      <td>...</td>\n",
       "      <td>Software Developers, Systems Software</td>\n",
       "      <td>Oregon</td>\n",
       "      <td>OR</td>\n",
       "      <td>NaN</td>\n",
       "      <td>y</td>\n",
       "      <td>E-3 Australian</td>\n",
       "      <td>NaN</td>\n",
       "      <td>170000.0</td>\n",
       "      <td>software engineer</td>\n",
       "      <td>5</td>\n",
       "    </tr>\n",
       "    <tr>\n",
       "      <th>...</th>\n",
       "      <td>...</td>\n",
       "      <td>...</td>\n",
       "      <td>...</td>\n",
       "      <td>...</td>\n",
       "      <td>...</td>\n",
       "      <td>...</td>\n",
       "      <td>...</td>\n",
       "      <td>...</td>\n",
       "      <td>...</td>\n",
       "      <td>...</td>\n",
       "      <td>...</td>\n",
       "      <td>...</td>\n",
       "      <td>...</td>\n",
       "      <td>...</td>\n",
       "      <td>...</td>\n",
       "      <td>...</td>\n",
       "      <td>...</td>\n",
       "      <td>...</td>\n",
       "      <td>...</td>\n",
       "      <td>...</td>\n",
       "      <td>...</td>\n",
       "    </tr>\n",
       "    <tr>\n",
       "      <th>167273</th>\n",
       "      <td>I-200-12241-209885</td>\n",
       "      <td>certified-withdrawn</td>\n",
       "      <td>8/28/2012</td>\n",
       "      <td>6/6/2013</td>\n",
       "      <td>CHINESE BIBLE CHURCH INTERNATIONAL, INC.</td>\n",
       "      <td>5.05</td>\n",
       "      <td>hour</td>\n",
       "      <td>5.60</td>\n",
       "      <td>hour</td>\n",
       "      <td>MIDDLE SCHOOL TEACHERS</td>\n",
       "      <td>...</td>\n",
       "      <td>Middle School Teachers, Except Special and Car...</td>\n",
       "      <td>Northern Mariana Islands</td>\n",
       "      <td>MP</td>\n",
       "      <td>NaN</td>\n",
       "      <td>y</td>\n",
       "      <td>H-1B</td>\n",
       "      <td>10504.0</td>\n",
       "      <td>11648.0</td>\n",
       "      <td>teacher</td>\n",
       "      <td>167357</td>\n",
       "    </tr>\n",
       "    <tr>\n",
       "      <th>167274</th>\n",
       "      <td>I-200-11305-143547</td>\n",
       "      <td>denied</td>\n",
       "      <td>11/1/2011</td>\n",
       "      <td>11/3/2011</td>\n",
       "      <td>CHINESE BIBLE CHURCH INTERNATIONAL, INC.</td>\n",
       "      <td>5.05</td>\n",
       "      <td>hour</td>\n",
       "      <td>5.25</td>\n",
       "      <td>hour</td>\n",
       "      <td>PRESCHOOL TEACHER</td>\n",
       "      <td>...</td>\n",
       "      <td>Preschool Teachers, Except Special Education</td>\n",
       "      <td>Northern Mariana Islands</td>\n",
       "      <td>MP</td>\n",
       "      <td>NaN</td>\n",
       "      <td>y</td>\n",
       "      <td>H-1B</td>\n",
       "      <td>10504.0</td>\n",
       "      <td>10920.0</td>\n",
       "      <td>teacher</td>\n",
       "      <td>167358</td>\n",
       "    </tr>\n",
       "    <tr>\n",
       "      <th>167275</th>\n",
       "      <td>I-200-11313-833007</td>\n",
       "      <td>certified</td>\n",
       "      <td>11/9/2011</td>\n",
       "      <td>11/16/2011</td>\n",
       "      <td>CHINESE BIBLE CHURCH INTERNATIONAL, INC.</td>\n",
       "      <td>5.05</td>\n",
       "      <td>hour</td>\n",
       "      <td>5.25</td>\n",
       "      <td>hour</td>\n",
       "      <td>TEACHER</td>\n",
       "      <td>...</td>\n",
       "      <td>Teachers and Instructors, All Other*</td>\n",
       "      <td>Northern Mariana Islands</td>\n",
       "      <td>MP</td>\n",
       "      <td>NaN</td>\n",
       "      <td>y</td>\n",
       "      <td>H-1B</td>\n",
       "      <td>10504.0</td>\n",
       "      <td>10920.0</td>\n",
       "      <td>teacher</td>\n",
       "      <td>167359</td>\n",
       "    </tr>\n",
       "    <tr>\n",
       "      <th>167276</th>\n",
       "      <td>I-200-11312-798611</td>\n",
       "      <td>denied</td>\n",
       "      <td>11/8/2011</td>\n",
       "      <td>11/15/2011</td>\n",
       "      <td>CHINESE BIBLE CHURCH INTERNATIONAL, INC.</td>\n",
       "      <td>5.05</td>\n",
       "      <td>hour</td>\n",
       "      <td>5.10</td>\n",
       "      <td>hour</td>\n",
       "      <td>PRESCHOOL TEACHER</td>\n",
       "      <td>...</td>\n",
       "      <td>Preschool Teachers, Except Special Education</td>\n",
       "      <td>Northern Mariana Islands</td>\n",
       "      <td>MP</td>\n",
       "      <td>NaN</td>\n",
       "      <td>y</td>\n",
       "      <td>H-1B</td>\n",
       "      <td>10504.0</td>\n",
       "      <td>10608.0</td>\n",
       "      <td>teacher</td>\n",
       "      <td>167360</td>\n",
       "    </tr>\n",
       "    <tr>\n",
       "      <th>167277</th>\n",
       "      <td>I-200-11297-523711</td>\n",
       "      <td>denied</td>\n",
       "      <td>10/24/2011</td>\n",
       "      <td>10/26/2011</td>\n",
       "      <td>CHINESE BIBLE CHURCH INTERNATIONAL, INC.</td>\n",
       "      <td>5.05</td>\n",
       "      <td>hour</td>\n",
       "      <td>5.05</td>\n",
       "      <td>hour</td>\n",
       "      <td>PRESCHOOL TEACHER</td>\n",
       "      <td>...</td>\n",
       "      <td>Preschool Teachers, Except Special Education</td>\n",
       "      <td>Northern Mariana Islands</td>\n",
       "      <td>MP</td>\n",
       "      <td>NaN</td>\n",
       "      <td>y</td>\n",
       "      <td>H-1B</td>\n",
       "      <td>10504.0</td>\n",
       "      <td>10504.0</td>\n",
       "      <td>teacher</td>\n",
       "      <td>167361</td>\n",
       "    </tr>\n",
       "  </tbody>\n",
       "</table>\n",
       "<p>167278 rows × 27 columns</p>\n",
       "</div>"
      ],
      "text/plain": [
       "               CASE_NUMBER          CASE_STATUS CASE_RECEIVED_DATE  \\\n",
       "0       I-200-14073-248840               denied          3/14/2014   \n",
       "1            A-15061-55212               denied          3/19/2015   \n",
       "2       I-200-13256-001092               denied          9/13/2013   \n",
       "3       I-200-14087-353657               denied          3/28/2014   \n",
       "4       I-203-14259-128844               denied          9/16/2014   \n",
       "...                    ...                  ...                ...   \n",
       "167273  I-200-12241-209885  certified-withdrawn          8/28/2012   \n",
       "167274  I-200-11305-143547               denied          11/1/2011   \n",
       "167275  I-200-11313-833007            certified          11/9/2011   \n",
       "167276  I-200-11312-798611               denied          11/8/2011   \n",
       "167277  I-200-11297-523711               denied         10/24/2011   \n",
       "\n",
       "       DECISION_DATE                                      EMPLOYER_NAME  \\\n",
       "0          3/21/2014                ADVANCED TECHNOLOGY GROUP USA, INC.   \n",
       "1          3/19/2015                     SAN FRANCISCO STATE UNIVERSITY   \n",
       "2          9/23/2013                                    CAROUSEL SCHOOL   \n",
       "3           4/7/2014  HARLINGEN CONSOLIDATED INDEPENDENT SCHOOL DIST...   \n",
       "4          9/23/2014                        SIGNAL SCIENCES CORPORATION   \n",
       "...              ...                                                ...   \n",
       "167273      6/6/2013           CHINESE BIBLE CHURCH INTERNATIONAL, INC.   \n",
       "167274     11/3/2011           CHINESE BIBLE CHURCH INTERNATIONAL, INC.   \n",
       "167275    11/16/2011           CHINESE BIBLE CHURCH INTERNATIONAL, INC.   \n",
       "167276    11/15/2011           CHINESE BIBLE CHURCH INTERNATIONAL, INC.   \n",
       "167277    10/26/2011           CHINESE BIBLE CHURCH INTERNATIONAL, INC.   \n",
       "\n",
       "        PREVAILING_WAGE_SUBMITTED PREVAILING_WAGE_SUBMITTED_UNIT  \\\n",
       "0                      6217100.00                           year   \n",
       "1                      5067600.00                           year   \n",
       "2                      4947000.00                           year   \n",
       "3                       251052.00                          month   \n",
       "4                        84573.00                      bi-weekly   \n",
       "...                           ...                            ...   \n",
       "167273                       5.05                           hour   \n",
       "167274                       5.05                           hour   \n",
       "167275                       5.05                           hour   \n",
       "167276                       5.05                           hour   \n",
       "167277                       5.05                           hour   \n",
       "\n",
       "        PAID_WAGE_SUBMITTED PAID_WAGE_SUBMITTED_UNIT  \\\n",
       "0                  62171.00                     year   \n",
       "1                  91440.00                     year   \n",
       "2                  49470.00                     year   \n",
       "3                  43800.00                     year   \n",
       "4                 170000.00                     year   \n",
       "...                     ...                      ...   \n",
       "167273                 5.60                     hour   \n",
       "167274                 5.25                     hour   \n",
       "167275                 5.25                     hour   \n",
       "167276                 5.10                     hour   \n",
       "167277                 5.05                     hour   \n",
       "\n",
       "                               JOB_TITLE  ...  \\\n",
       "0                      SOFTWARE ENGINEER  ...   \n",
       "1       Assistant Professor of Marketing  ...   \n",
       "2              SPECIAL EDUCATION TEACHER  ...   \n",
       "3                        SCIENCE TEACHER  ...   \n",
       "4               SENIOR SOFTWARE ENGINEER  ...   \n",
       "...                                  ...  ...   \n",
       "167273            MIDDLE SCHOOL TEACHERS  ...   \n",
       "167274                 PRESCHOOL TEACHER  ...   \n",
       "167275                           TEACHER  ...   \n",
       "167276                 PRESCHOOL TEACHER  ...   \n",
       "167277                 PRESCHOOL TEACHER  ...   \n",
       "\n",
       "                                PREVAILING_WAGE_SOC_TITLE  \\\n",
       "0                       Software Developers, Applications   \n",
       "1                        Business Teachers, Postsecondary   \n",
       "2       Special Education Teachers, Kindergarten and E...   \n",
       "3              Biological Science Teachers, Postsecondary   \n",
       "4                   Software Developers, Systems Software   \n",
       "...                                                   ...   \n",
       "167273  Middle School Teachers, Except Special and Car...   \n",
       "167274       Preschool Teachers, Except Special Education   \n",
       "167275               Teachers and Instructors, All Other*   \n",
       "167276       Preschool Teachers, Except Special Education   \n",
       "167277       Preschool Teachers, Except Special Education   \n",
       "\n",
       "                      WORK_STATE WORK_STATE_ABBREVIATION WORK_POSTAL_CODE  \\\n",
       "0                       Illinois                      IL              NaN   \n",
       "1                     California                      CA          94132.0   \n",
       "2                     California                      CA              NaN   \n",
       "3                          Texas                      TX              NaN   \n",
       "4                         Oregon                      OR              NaN   \n",
       "...                          ...                     ...              ...   \n",
       "167273  Northern Mariana Islands                      MP              NaN   \n",
       "167274  Northern Mariana Islands                      MP              NaN   \n",
       "167275  Northern Mariana Islands                      MP              NaN   \n",
       "167276  Northern Mariana Islands                      MP              NaN   \n",
       "167277  Northern Mariana Islands                      MP              NaN   \n",
       "\n",
       "        FULL_TIME_POSITION_Y_N      VISA_CLASS PREVAILING_WAGE_PER_YEAR  \\\n",
       "0                            y            H-1B                      NaN   \n",
       "1                          NaN       greencard                      NaN   \n",
       "2                            y            H-1B                      NaN   \n",
       "3                            y            H-1B                      NaN   \n",
       "4                            y  E-3 Australian                      NaN   \n",
       "...                        ...             ...                      ...   \n",
       "167273                       y            H-1B                  10504.0   \n",
       "167274                       y            H-1B                  10504.0   \n",
       "167275                       y            H-1B                  10504.0   \n",
       "167276                       y            H-1B                  10504.0   \n",
       "167277                       y            H-1B                  10504.0   \n",
       "\n",
       "       PAID_WAGE_PER_YEAR   JOB_TITLE_SUBGROUP   order  \n",
       "0                 62171.0    software engineer       1  \n",
       "1                 91440.0  assistant professor       2  \n",
       "2                 49470.0              teacher       3  \n",
       "3                 43800.0              teacher       4  \n",
       "4                170000.0    software engineer       5  \n",
       "...                   ...                  ...     ...  \n",
       "167273            11648.0              teacher  167357  \n",
       "167274            10920.0              teacher  167358  \n",
       "167275            10920.0              teacher  167359  \n",
       "167276            10608.0              teacher  167360  \n",
       "167277            10504.0              teacher  167361  \n",
       "\n",
       "[167278 rows x 27 columns]"
      ]
     },
     "execution_count": 3,
     "metadata": {},
     "output_type": "execute_result"
    }
   ],
   "source": [
    "salary_data = pd.read_csv('salary_data_states.csv')\n",
    "salary_data"
   ]
  },
  {
   "cell_type": "code",
   "execution_count": 4,
   "id": "efcc78e1",
   "metadata": {},
   "outputs": [
    {
     "data": {
      "text/plain": [
       "array(['software engineer', 'assistant professor', 'teacher',\n",
       "       'business analyst', 'management consultant', 'data analyst',\n",
       "       'attorney', 'data scientist'], dtype=object)"
      ]
     },
     "execution_count": 4,
     "metadata": {},
     "output_type": "execute_result"
    }
   ],
   "source": [
    "salary_data['JOB_TITLE_SUBGROUP'].unique()"
   ]
  },
  {
   "cell_type": "code",
   "execution_count": 5,
   "id": "dceb736b",
   "metadata": {},
   "outputs": [
    {
     "data": {
      "text/html": [
       "<div>\n",
       "<style scoped>\n",
       "    .dataframe tbody tr th:only-of-type {\n",
       "        vertical-align: middle;\n",
       "    }\n",
       "\n",
       "    .dataframe tbody tr th {\n",
       "        vertical-align: top;\n",
       "    }\n",
       "\n",
       "    .dataframe thead th {\n",
       "        text-align: right;\n",
       "    }\n",
       "</style>\n",
       "<table border=\"1\" class=\"dataframe\">\n",
       "  <thead>\n",
       "    <tr style=\"text-align: right;\">\n",
       "      <th></th>\n",
       "      <th>PREVAILING_WAGE_SUBMITTED</th>\n",
       "      <th>PAID_WAGE_SUBMITTED</th>\n",
       "      <th>EXPERIENCE_REQUIRED_NUM_MONTHS</th>\n",
       "      <th>PREVAILING_WAGE_PER_YEAR</th>\n",
       "      <th>PAID_WAGE_PER_YEAR</th>\n",
       "      <th>order</th>\n",
       "    </tr>\n",
       "  </thead>\n",
       "  <tbody>\n",
       "    <tr>\n",
       "      <th>count</th>\n",
       "      <td>1.672780e+05</td>\n",
       "      <td>1.672780e+05</td>\n",
       "      <td>4965.000000</td>\n",
       "      <td>167210.000000</td>\n",
       "      <td>1.672780e+05</td>\n",
       "      <td>167278.000000</td>\n",
       "    </tr>\n",
       "    <tr>\n",
       "      <th>mean</th>\n",
       "      <td>7.115752e+04</td>\n",
       "      <td>8.164186e+04</td>\n",
       "      <td>34.692044</td>\n",
       "      <td>74274.868236</td>\n",
       "      <td>8.553277e+04</td>\n",
       "      <td>83714.716305</td>\n",
       "    </tr>\n",
       "    <tr>\n",
       "      <th>std</th>\n",
       "      <td>3.874624e+04</td>\n",
       "      <td>4.147703e+04</td>\n",
       "      <td>22.317783</td>\n",
       "      <td>25356.245893</td>\n",
       "      <td>3.873847e+04</td>\n",
       "      <td>48300.236431</td>\n",
       "    </tr>\n",
       "    <tr>\n",
       "      <th>min</th>\n",
       "      <td>5.050000e+00</td>\n",
       "      <td>5.050000e+00</td>\n",
       "      <td>0.000000</td>\n",
       "      <td>10504.000000</td>\n",
       "      <td>1.050000e+04</td>\n",
       "      <td>1.000000</td>\n",
       "    </tr>\n",
       "    <tr>\n",
       "      <th>25%</th>\n",
       "      <td>5.447500e+04</td>\n",
       "      <td>6.100000e+04</td>\n",
       "      <td>12.000000</td>\n",
       "      <td>56880.000000</td>\n",
       "      <td>6.300000e+04</td>\n",
       "      <td>41901.250000</td>\n",
       "    </tr>\n",
       "    <tr>\n",
       "      <th>50%</th>\n",
       "      <td>6.970100e+04</td>\n",
       "      <td>7.700000e+04</td>\n",
       "      <td>24.000000</td>\n",
       "      <td>70928.000000</td>\n",
       "      <td>7.860000e+04</td>\n",
       "      <td>83722.500000</td>\n",
       "    </tr>\n",
       "    <tr>\n",
       "      <th>75%</th>\n",
       "      <td>8.993700e+04</td>\n",
       "      <td>1.000000e+05</td>\n",
       "      <td>60.000000</td>\n",
       "      <td>90459.000000</td>\n",
       "      <td>1.000060e+05</td>\n",
       "      <td>125541.750000</td>\n",
       "    </tr>\n",
       "    <tr>\n",
       "      <th>max</th>\n",
       "      <td>6.217100e+06</td>\n",
       "      <td>2.500000e+06</td>\n",
       "      <td>144.000000</td>\n",
       "      <td>320000.000000</td>\n",
       "      <td>2.500000e+06</td>\n",
       "      <td>167361.000000</td>\n",
       "    </tr>\n",
       "  </tbody>\n",
       "</table>\n",
       "</div>"
      ],
      "text/plain": [
       "       PREVAILING_WAGE_SUBMITTED  PAID_WAGE_SUBMITTED  \\\n",
       "count               1.672780e+05         1.672780e+05   \n",
       "mean                7.115752e+04         8.164186e+04   \n",
       "std                 3.874624e+04         4.147703e+04   \n",
       "min                 5.050000e+00         5.050000e+00   \n",
       "25%                 5.447500e+04         6.100000e+04   \n",
       "50%                 6.970100e+04         7.700000e+04   \n",
       "75%                 8.993700e+04         1.000000e+05   \n",
       "max                 6.217100e+06         2.500000e+06   \n",
       "\n",
       "       EXPERIENCE_REQUIRED_NUM_MONTHS  PREVAILING_WAGE_PER_YEAR  \\\n",
       "count                     4965.000000             167210.000000   \n",
       "mean                        34.692044              74274.868236   \n",
       "std                         22.317783              25356.245893   \n",
       "min                          0.000000              10504.000000   \n",
       "25%                         12.000000              56880.000000   \n",
       "50%                         24.000000              70928.000000   \n",
       "75%                         60.000000              90459.000000   \n",
       "max                        144.000000             320000.000000   \n",
       "\n",
       "       PAID_WAGE_PER_YEAR          order  \n",
       "count        1.672780e+05  167278.000000  \n",
       "mean         8.553277e+04   83714.716305  \n",
       "std          3.873847e+04   48300.236431  \n",
       "min          1.050000e+04       1.000000  \n",
       "25%          6.300000e+04   41901.250000  \n",
       "50%          7.860000e+04   83722.500000  \n",
       "75%          1.000060e+05  125541.750000  \n",
       "max          2.500000e+06  167361.000000  "
      ]
     },
     "execution_count": 5,
     "metadata": {},
     "output_type": "execute_result"
    }
   ],
   "source": [
    "salary_data.describe()"
   ]
  },
  {
   "cell_type": "code",
   "execution_count": 6,
   "id": "df851361",
   "metadata": {},
   "outputs": [
    {
     "name": "stdout",
     "output_type": "stream",
     "text": [
      "<class 'pandas.core.frame.DataFrame'>\n",
      "RangeIndex: 167278 entries, 0 to 167277\n",
      "Data columns (total 27 columns):\n",
      " #   Column                          Non-Null Count   Dtype  \n",
      "---  ------                          --------------   -----  \n",
      " 0   CASE_NUMBER                     167278 non-null  object \n",
      " 1   CASE_STATUS                     167278 non-null  object \n",
      " 2   CASE_RECEIVED_DATE              167278 non-null  object \n",
      " 3   DECISION_DATE                   167278 non-null  object \n",
      " 4   EMPLOYER_NAME                   167278 non-null  object \n",
      " 5   PREVAILING_WAGE_SUBMITTED       167278 non-null  float64\n",
      " 6   PREVAILING_WAGE_SUBMITTED_UNIT  167278 non-null  object \n",
      " 7   PAID_WAGE_SUBMITTED             167278 non-null  float64\n",
      " 8   PAID_WAGE_SUBMITTED_UNIT        167278 non-null  object \n",
      " 9   JOB_TITLE                       167278 non-null  object \n",
      " 10  WORK_CITY                       167275 non-null  object \n",
      " 11  EDUCATION_LEVEL_REQUIRED        11093 non-null   object \n",
      " 12  COLLEGE_MAJOR_REQUIRED          11051 non-null   object \n",
      " 13  EXPERIENCE_REQUIRED_Y_N         11093 non-null   object \n",
      " 14  EXPERIENCE_REQUIRED_NUM_MONTHS  4965 non-null    float64\n",
      " 15  COUNTRY_OF_CITIZENSHIP          11093 non-null   object \n",
      " 16  PREVAILING_WAGE_SOC_CODE        167278 non-null  object \n",
      " 17  PREVAILING_WAGE_SOC_TITLE       167278 non-null  object \n",
      " 18  WORK_STATE                      167278 non-null  object \n",
      " 19  WORK_STATE_ABBREVIATION         167278 non-null  object \n",
      " 20  WORK_POSTAL_CODE                53674 non-null   object \n",
      " 21  FULL_TIME_POSITION_Y_N          156185 non-null  object \n",
      " 22  VISA_CLASS                      167278 non-null  object \n",
      " 23  PREVAILING_WAGE_PER_YEAR        167210 non-null  float64\n",
      " 24  PAID_WAGE_PER_YEAR              167278 non-null  float64\n",
      " 25  JOB_TITLE_SUBGROUP              167278 non-null  object \n",
      " 26  order                           167278 non-null  int64  \n",
      "dtypes: float64(5), int64(1), object(21)\n",
      "memory usage: 34.5+ MB\n"
     ]
    }
   ],
   "source": [
    "salary_data.info()"
   ]
  },
  {
   "cell_type": "code",
   "execution_count": 7,
   "id": "06119b57",
   "metadata": {},
   "outputs": [
    {
     "data": {
      "text/html": [
       "<div>\n",
       "<style scoped>\n",
       "    .dataframe tbody tr th:only-of-type {\n",
       "        vertical-align: middle;\n",
       "    }\n",
       "\n",
       "    .dataframe tbody tr th {\n",
       "        vertical-align: top;\n",
       "    }\n",
       "\n",
       "    .dataframe thead th {\n",
       "        text-align: right;\n",
       "    }\n",
       "</style>\n",
       "<table border=\"1\" class=\"dataframe\">\n",
       "  <thead>\n",
       "    <tr style=\"text-align: right;\">\n",
       "      <th></th>\n",
       "      <th>CASE_NUMBER</th>\n",
       "      <th>CASE_STATUS</th>\n",
       "      <th>CASE_RECEIVED_DATE</th>\n",
       "      <th>DECISION_DATE</th>\n",
       "      <th>EMPLOYER_NAME</th>\n",
       "      <th>PREVAILING_WAGE_SUBMITTED</th>\n",
       "      <th>PREVAILING_WAGE_SUBMITTED_UNIT</th>\n",
       "      <th>PAID_WAGE_SUBMITTED</th>\n",
       "      <th>PAID_WAGE_SUBMITTED_UNIT</th>\n",
       "      <th>JOB_TITLE</th>\n",
       "      <th>...</th>\n",
       "      <th>PREVAILING_WAGE_SOC_TITLE</th>\n",
       "      <th>WORK_STATE</th>\n",
       "      <th>WORK_STATE_ABBREVIATION</th>\n",
       "      <th>WORK_POSTAL_CODE</th>\n",
       "      <th>FULL_TIME_POSITION_Y_N</th>\n",
       "      <th>VISA_CLASS</th>\n",
       "      <th>PREVAILING_WAGE_PER_YEAR</th>\n",
       "      <th>PAID_WAGE_PER_YEAR</th>\n",
       "      <th>JOB_TITLE_SUBGROUP</th>\n",
       "      <th>order</th>\n",
       "    </tr>\n",
       "  </thead>\n",
       "  <tbody>\n",
       "    <tr>\n",
       "      <th>0</th>\n",
       "      <td>I-200-14073-248840</td>\n",
       "      <td>denied</td>\n",
       "      <td>3/14/2014</td>\n",
       "      <td>3/21/2014</td>\n",
       "      <td>ADVANCED TECHNOLOGY GROUP USA, INC.</td>\n",
       "      <td>6217100.0</td>\n",
       "      <td>year</td>\n",
       "      <td>62171.0</td>\n",
       "      <td>year</td>\n",
       "      <td>SOFTWARE ENGINEER</td>\n",
       "      <td>...</td>\n",
       "      <td>Software Developers, Applications</td>\n",
       "      <td>Illinois</td>\n",
       "      <td>IL</td>\n",
       "      <td>NaN</td>\n",
       "      <td>y</td>\n",
       "      <td>H-1B</td>\n",
       "      <td>NaN</td>\n",
       "      <td>62171.0</td>\n",
       "      <td>software engineer</td>\n",
       "      <td>1</td>\n",
       "    </tr>\n",
       "    <tr>\n",
       "      <th>1</th>\n",
       "      <td>A-15061-55212</td>\n",
       "      <td>denied</td>\n",
       "      <td>3/19/2015</td>\n",
       "      <td>3/19/2015</td>\n",
       "      <td>SAN FRANCISCO STATE UNIVERSITY</td>\n",
       "      <td>5067600.0</td>\n",
       "      <td>year</td>\n",
       "      <td>91440.0</td>\n",
       "      <td>year</td>\n",
       "      <td>Assistant Professor of Marketing</td>\n",
       "      <td>...</td>\n",
       "      <td>Business Teachers, Postsecondary</td>\n",
       "      <td>California</td>\n",
       "      <td>CA</td>\n",
       "      <td>94132.0</td>\n",
       "      <td>NaN</td>\n",
       "      <td>greencard</td>\n",
       "      <td>NaN</td>\n",
       "      <td>91440.0</td>\n",
       "      <td>assistant professor</td>\n",
       "      <td>2</td>\n",
       "    </tr>\n",
       "    <tr>\n",
       "      <th>2</th>\n",
       "      <td>I-200-13256-001092</td>\n",
       "      <td>denied</td>\n",
       "      <td>9/13/2013</td>\n",
       "      <td>9/23/2013</td>\n",
       "      <td>CAROUSEL SCHOOL</td>\n",
       "      <td>4947000.0</td>\n",
       "      <td>year</td>\n",
       "      <td>49470.0</td>\n",
       "      <td>year</td>\n",
       "      <td>SPECIAL EDUCATION TEACHER</td>\n",
       "      <td>...</td>\n",
       "      <td>Special Education Teachers, Kindergarten and E...</td>\n",
       "      <td>California</td>\n",
       "      <td>CA</td>\n",
       "      <td>NaN</td>\n",
       "      <td>y</td>\n",
       "      <td>H-1B</td>\n",
       "      <td>NaN</td>\n",
       "      <td>49470.0</td>\n",
       "      <td>teacher</td>\n",
       "      <td>3</td>\n",
       "    </tr>\n",
       "    <tr>\n",
       "      <th>3</th>\n",
       "      <td>I-200-14087-353657</td>\n",
       "      <td>denied</td>\n",
       "      <td>3/28/2014</td>\n",
       "      <td>4/7/2014</td>\n",
       "      <td>HARLINGEN CONSOLIDATED INDEPENDENT SCHOOL DIST...</td>\n",
       "      <td>251052.0</td>\n",
       "      <td>month</td>\n",
       "      <td>43800.0</td>\n",
       "      <td>year</td>\n",
       "      <td>SCIENCE TEACHER</td>\n",
       "      <td>...</td>\n",
       "      <td>Biological Science Teachers, Postsecondary</td>\n",
       "      <td>Texas</td>\n",
       "      <td>TX</td>\n",
       "      <td>NaN</td>\n",
       "      <td>y</td>\n",
       "      <td>H-1B</td>\n",
       "      <td>NaN</td>\n",
       "      <td>43800.0</td>\n",
       "      <td>teacher</td>\n",
       "      <td>4</td>\n",
       "    </tr>\n",
       "    <tr>\n",
       "      <th>4</th>\n",
       "      <td>I-203-14259-128844</td>\n",
       "      <td>denied</td>\n",
       "      <td>9/16/2014</td>\n",
       "      <td>9/23/2014</td>\n",
       "      <td>SIGNAL SCIENCES CORPORATION</td>\n",
       "      <td>84573.0</td>\n",
       "      <td>bi-weekly</td>\n",
       "      <td>170000.0</td>\n",
       "      <td>year</td>\n",
       "      <td>SENIOR SOFTWARE ENGINEER</td>\n",
       "      <td>...</td>\n",
       "      <td>Software Developers, Systems Software</td>\n",
       "      <td>Oregon</td>\n",
       "      <td>OR</td>\n",
       "      <td>NaN</td>\n",
       "      <td>y</td>\n",
       "      <td>E-3 Australian</td>\n",
       "      <td>NaN</td>\n",
       "      <td>170000.0</td>\n",
       "      <td>software engineer</td>\n",
       "      <td>5</td>\n",
       "    </tr>\n",
       "  </tbody>\n",
       "</table>\n",
       "<p>5 rows × 27 columns</p>\n",
       "</div>"
      ],
      "text/plain": [
       "          CASE_NUMBER CASE_STATUS CASE_RECEIVED_DATE DECISION_DATE  \\\n",
       "0  I-200-14073-248840      denied          3/14/2014     3/21/2014   \n",
       "1       A-15061-55212      denied          3/19/2015     3/19/2015   \n",
       "2  I-200-13256-001092      denied          9/13/2013     9/23/2013   \n",
       "3  I-200-14087-353657      denied          3/28/2014      4/7/2014   \n",
       "4  I-203-14259-128844      denied          9/16/2014     9/23/2014   \n",
       "\n",
       "                                       EMPLOYER_NAME  \\\n",
       "0                ADVANCED TECHNOLOGY GROUP USA, INC.   \n",
       "1                     SAN FRANCISCO STATE UNIVERSITY   \n",
       "2                                    CAROUSEL SCHOOL   \n",
       "3  HARLINGEN CONSOLIDATED INDEPENDENT SCHOOL DIST...   \n",
       "4                        SIGNAL SCIENCES CORPORATION   \n",
       "\n",
       "   PREVAILING_WAGE_SUBMITTED PREVAILING_WAGE_SUBMITTED_UNIT  \\\n",
       "0                  6217100.0                           year   \n",
       "1                  5067600.0                           year   \n",
       "2                  4947000.0                           year   \n",
       "3                   251052.0                          month   \n",
       "4                    84573.0                      bi-weekly   \n",
       "\n",
       "   PAID_WAGE_SUBMITTED PAID_WAGE_SUBMITTED_UNIT  \\\n",
       "0              62171.0                     year   \n",
       "1              91440.0                     year   \n",
       "2              49470.0                     year   \n",
       "3              43800.0                     year   \n",
       "4             170000.0                     year   \n",
       "\n",
       "                          JOB_TITLE  ...  \\\n",
       "0                 SOFTWARE ENGINEER  ...   \n",
       "1  Assistant Professor of Marketing  ...   \n",
       "2         SPECIAL EDUCATION TEACHER  ...   \n",
       "3                   SCIENCE TEACHER  ...   \n",
       "4          SENIOR SOFTWARE ENGINEER  ...   \n",
       "\n",
       "                           PREVAILING_WAGE_SOC_TITLE  WORK_STATE  \\\n",
       "0                  Software Developers, Applications    Illinois   \n",
       "1                   Business Teachers, Postsecondary  California   \n",
       "2  Special Education Teachers, Kindergarten and E...  California   \n",
       "3         Biological Science Teachers, Postsecondary       Texas   \n",
       "4              Software Developers, Systems Software      Oregon   \n",
       "\n",
       "  WORK_STATE_ABBREVIATION WORK_POSTAL_CODE  FULL_TIME_POSITION_Y_N  \\\n",
       "0                      IL              NaN                       y   \n",
       "1                      CA          94132.0                     NaN   \n",
       "2                      CA              NaN                       y   \n",
       "3                      TX              NaN                       y   \n",
       "4                      OR              NaN                       y   \n",
       "\n",
       "       VISA_CLASS PREVAILING_WAGE_PER_YEAR PAID_WAGE_PER_YEAR  \\\n",
       "0            H-1B                      NaN            62171.0   \n",
       "1       greencard                      NaN            91440.0   \n",
       "2            H-1B                      NaN            49470.0   \n",
       "3            H-1B                      NaN            43800.0   \n",
       "4  E-3 Australian                      NaN           170000.0   \n",
       "\n",
       "    JOB_TITLE_SUBGROUP order  \n",
       "0    software engineer     1  \n",
       "1  assistant professor     2  \n",
       "2              teacher     3  \n",
       "3              teacher     4  \n",
       "4    software engineer     5  \n",
       "\n",
       "[5 rows x 27 columns]"
      ]
     },
     "execution_count": 7,
     "metadata": {},
     "output_type": "execute_result"
    }
   ],
   "source": [
    "salary_data.head()"
   ]
  },
  {
   "cell_type": "code",
   "execution_count": 8,
   "id": "3bf7dba2",
   "metadata": {},
   "outputs": [
    {
     "data": {
      "text/plain": [
       "software engineer        99364\n",
       "business analyst         27811\n",
       "assistant professor      18866\n",
       "teacher                  13912\n",
       "data analyst              3840\n",
       "attorney                  1488\n",
       "data scientist            1227\n",
       "management consultant      770\n",
       "Name: JOB_TITLE_SUBGROUP, dtype: int64"
      ]
     },
     "execution_count": 8,
     "metadata": {},
     "output_type": "execute_result"
    }
   ],
   "source": [
    "salary_data['JOB_TITLE_SUBGROUP'].value_counts()"
   ]
  },
  {
   "cell_type": "code",
   "execution_count": null,
   "id": "c2d7fb94",
   "metadata": {},
   "outputs": [],
   "source": []
  },
  {
   "cell_type": "code",
   "execution_count": 10,
   "id": "8dd455bc",
   "metadata": {},
   "outputs": [
    {
     "data": {
      "text/plain": [
       "array(['SOFTWARE ENGINEER', 'Assistant Professor of Marketing',\n",
       "       'SPECIAL EDUCATION TEACHER', ...,\n",
       "       'BILINGUAL SPECIAL EDUCAITON TEACHER ASSISTANT',\n",
       "       'BILINGUAL SPECIAL EDUCATIN TEACHER ASSISTANT',\n",
       "       'BILINGUAL SPECIAL EDUCATION TEACHER ASSISTANT'], dtype=object)"
      ]
     },
     "execution_count": 10,
     "metadata": {},
     "output_type": "execute_result"
    }
   ],
   "source": [
    "salary_data['JOB_TITLE'].unique()"
   ]
  },
  {
   "cell_type": "code",
   "execution_count": 11,
   "id": "e158cd34",
   "metadata": {},
   "outputs": [
    {
     "data": {
      "text/plain": [
       "Software Developers, Applications                     52066\n",
       "SOFTWARE DEVELOPERS, APPLICATIONS                     21085\n",
       "Software Developers, Systems Software                 13176\n",
       "Computer Systems Analysts                             12186\n",
       "Management Analysts                                    5886\n",
       "                                                      ...  \n",
       "PSYCHOLOGISTS, ALL OTHER                                  1\n",
       "SOCIOLOGISTS                                              1\n",
       "ASTRONOMERS                                               1\n",
       "CAREER/TECHNICAL EDUCATION TEACHERS, MIDDLE SCHOOL        1\n",
       "Coaches and Scouts                                        1\n",
       "Name: PREVAILING_WAGE_SOC_TITLE, Length: 561, dtype: int64"
      ]
     },
     "execution_count": 11,
     "metadata": {},
     "output_type": "execute_result"
    }
   ],
   "source": [
    "salary_data['PREVAILING_WAGE_SOC_TITLE'].value_counts()"
   ]
  },
  {
   "cell_type": "code",
   "execution_count": 12,
   "id": "68517999",
   "metadata": {},
   "outputs": [
    {
     "data": {
      "text/plain": [
       "California                  46782\n",
       "Texas                       15498\n",
       "New York                    11373\n",
       "New Jersey                  10198\n",
       "Illinois                     7411\n",
       "Massachusetts                6848\n",
       "Virginia                     6031\n",
       "Georgia                      5615\n",
       "Pennsylvania                 4725\n",
       "Washington                   4610\n",
       "Florida                      4064\n",
       "Michigan                     3844\n",
       "North Carolina               3578\n",
       "Maryland                     3275\n",
       "Ohio                         3192\n",
       "Missouri                     2773\n",
       "Arizona                      2570\n",
       "Minnesota                    2116\n",
       "Connecticut                  2023\n",
       "Indiana                      1617\n",
       "Colorado                     1614\n",
       "Oregon                       1535\n",
       "Wisconsin                    1433\n",
       "District of Columbia         1370\n",
       "Tennessee                    1087\n",
       "Iowa                         1012\n",
       "Louisiana                     883\n",
       "Delaware                      874\n",
       "South Carolina                851\n",
       "Utah                          757\n",
       "Kansas                        746\n",
       "Kentucky                      641\n",
       "Nebraska                      598\n",
       "New Mexico                    575\n",
       "Alabama                       559\n",
       "Arkansas                      558\n",
       "Oklahoma                      551\n",
       "Rhode Island                  528\n",
       "Nevada                        427\n",
       "New Hampshire                 427\n",
       "Mississippi                   343\n",
       "West Virginia                 307\n",
       "Maine                         216\n",
       "Idaho                         186\n",
       "Hawaii                        170\n",
       "North Dakota                  138\n",
       "Vermont                       131\n",
       "Puerto Rico                   109\n",
       "Virgin Islands                109\n",
       "South Dakota                  105\n",
       "Alaska                         66\n",
       "Montana                        63\n",
       "Guam                           61\n",
       "Northern Mariana Islands       58\n",
       "Wyoming                        45\n",
       "Palau                           1\n",
       "Guamam                          1\n",
       "Name: WORK_STATE, dtype: int64"
      ]
     },
     "execution_count": 12,
     "metadata": {},
     "output_type": "execute_result"
    }
   ],
   "source": [
    "salary_data['WORK_STATE'].value_counts()"
   ]
  },
  {
   "cell_type": "code",
   "execution_count": 13,
   "id": "9591de37",
   "metadata": {},
   "outputs": [
    {
     "data": {
      "text/plain": [
       "81641.85521248459"
      ]
     },
     "execution_count": 13,
     "metadata": {},
     "output_type": "execute_result"
    }
   ],
   "source": [
    "average_wage = salary_data['PAID_WAGE_SUBMITTED'].mean()\n",
    "\n",
    "\n",
    "average_wage"
   ]
  },
  {
   "cell_type": "code",
   "execution_count": 14,
   "id": "c9c50c26",
   "metadata": {},
   "outputs": [
    {
     "data": {
      "text/plain": [
       "2500000.0"
      ]
     },
     "execution_count": 14,
     "metadata": {},
     "output_type": "execute_result"
    }
   ],
   "source": [
    "max_wage = salary_data['PAID_WAGE_SUBMITTED'].max()\n",
    "max_wage"
   ]
  },
  {
   "cell_type": "code",
   "execution_count": 15,
   "id": "71318969",
   "metadata": {},
   "outputs": [
    {
     "data": {
      "text/plain": [
       "5.05"
      ]
     },
     "execution_count": 15,
     "metadata": {},
     "output_type": "execute_result"
    }
   ],
   "source": [
    "min_wage = salary_data['PAID_WAGE_SUBMITTED'].min()\n",
    "min_wage"
   ]
  },
  {
   "cell_type": "code",
   "execution_count": 16,
   "id": "535007c8",
   "metadata": {},
   "outputs": [
    {
     "data": {
      "text/plain": [
       "77000.0"
      ]
     },
     "execution_count": 16,
     "metadata": {},
     "output_type": "execute_result"
    }
   ],
   "source": [
    "median_wage = salary_data['PAID_WAGE_SUBMITTED'].median()\n",
    "median_wage"
   ]
  },
  {
   "cell_type": "code",
   "execution_count": 17,
   "id": "2670316f",
   "metadata": {},
   "outputs": [
    {
     "name": "stdout",
     "output_type": "stream",
     "text": [
      "Median Wage: 77000.0\n",
      "Average Wage: 81641.85521248459\n",
      "Maximum Wage: 2500000.0\n",
      "Minimum Wage: 5.05\n"
     ]
    }
   ],
   "source": [
    "print(f\"Median Wage: {median_wage}\")\n",
    "print(f\"Average Wage: {average_wage}\")\n",
    "print(f\"Maximum Wage: {max_wage}\")\n",
    "print(f\"Minimum Wage: {min_wage}\")"
   ]
  },
  {
   "cell_type": "code",
   "execution_count": 18,
   "id": "8a211f4a",
   "metadata": {},
   "outputs": [
    {
     "name": "stdout",
     "output_type": "stream",
     "text": [
      "Median Wage: 69701.0\n",
      "Average Wage: 71157.5188296369\n",
      "Maximum Wage: 6217100.0\n",
      "Minimum Wage: 5.05\n"
     ]
    }
   ],
   "source": [
    "#Prevailing Wage Stats\n",
    "averagep_wage = salary_data['PREVAILING_WAGE_SUBMITTED'].mean()\n",
    "minp_wage = salary_data['PREVAILING_WAGE_SUBMITTED'].min()\n",
    "maxp_wage = salary_data['PREVAILING_WAGE_SUBMITTED'].max()\n",
    "medianp_wage = salary_data['PREVAILING_WAGE_SUBMITTED'].median()\n",
    "\n",
    "print(f\"Median Wage: {medianp_wage}\")\n",
    "print(f\"Average Wage: {averagep_wage}\")\n",
    "print(f\"Maximum Wage: {maxp_wage}\")\n",
    "print(f\"Minimum Wage: {minp_wage}\")"
   ]
  },
  {
   "cell_type": "code",
   "execution_count": 17,
   "id": "8defba50",
   "metadata": {},
   "outputs": [
    {
     "name": "stderr",
     "output_type": "stream",
     "text": [
      "C:\\Users\\daysg\\AppData\\Local\\Temp\\ipykernel_3144\\954211631.py:2: UserWarning: \n",
      "\n",
      "`distplot` is a deprecated function and will be removed in seaborn v0.14.0.\n",
      "\n",
      "Please adapt your code to use either `displot` (a figure-level function with\n",
      "similar flexibility) or `histplot` (an axes-level function for histograms).\n",
      "\n",
      "For a guide to updating your code to use the new functions, please see\n",
      "https://gist.github.com/mwaskom/de44147ed2974457ad6372750bbe5751\n",
      "\n",
      "  sns.distplot(a=salary_data['PREVAILING_WAGE_SUBMITTED']);\n"
     ]
    },
    {
     "data": {
      "image/png": "[encoded data removed]",
      "text/plain": [
       "<Figure size 640x480 with 1 Axes>"
      ]
     },
     "metadata": {},
     "output_type": "display_data"
    }
   ],
   "source": [
    "sns.set_style('darkgrid')\n",
    "sns.distplot(a=salary_data['PREVAILING_WAGE_SUBMITTED']);\n",
    "# For more recent versions of seaborn:\n",
    "# sns.histplot(data=heart_df['age'], kde=True);"
   ]
  },
  {
   "cell_type": "code",
   "execution_count": 18,
   "id": "1655621c",
   "metadata": {},
   "outputs": [
    {
     "data": {
      "text/plain": [
       "JOB_TITLE\n",
       "*** Software Engineer (Secure Constrained Embedded Systems - Interactive TV)    119600.000000\n",
       "A.V.P., SENIOR BUSINESS ANALYST                                                  86700.000000\n",
       "ABAP SOFTWARE ENGINEER                                                           71448.000000\n",
       "ACADEMIC CLINICIAN ASSISTANT PROFESSOR                                          135000.000000\n",
       "ACADEMIC CLINICIAN, ASSISTANT PROFESSOR OF CLINICA                              145600.000000\n",
       "                                                                                    ...      \n",
       "iOS SOFTWARE ENGINEER                                                            83075.200000\n",
       "iOS Software Engineer                                                           135000.000000\n",
       "iTunes Customer Data Analyst                                                    128190.000000\n",
       "software engineer                                                               106707.312281\n",
       "software engineer /developer                                                     80000.000000\n",
       "Name: PAID_WAGE_PER_YEAR, Length: 12589, dtype: float64"
      ]
     },
     "execution_count": 18,
     "metadata": {},
     "output_type": "execute_result"
    }
   ],
   "source": [
    "salary_data.groupby('JOB_TITLE')['PAID_WAGE_PER_YEAR'].mean()"
   ]
  },
  {
   "cell_type": "code",
   "execution_count": 19,
   "id": "6f431b12",
   "metadata": {},
   "outputs": [
    {
     "data": {
      "text/plain": [
       "<pandas.core.groupby.generic.SeriesGroupBy object at 0x00000204000F0FD0>"
      ]
     },
     "execution_count": 19,
     "metadata": {},
     "output_type": "execute_result"
    }
   ],
   "source": [
    "salary_data.groupby(\"JOB_TITLE\")[\"PAID_WAGE_PER_YEAR\"]"
   ]
  },
  {
   "cell_type": "code",
   "execution_count": 20,
   "id": "11d5a626",
   "metadata": {},
   "outputs": [
    {
     "data": {
      "text/plain": [
       "JOB_TITLE\n",
       "LITIGATION ATTORNEY                        624000.0\n",
       "NETWORK SOFTWARE ENGINEER IV               672720.3\n",
       "COMPUTER SCIENCE TEACHER POSTSECONDARY     690000.0\n",
       "COMPUTER SCIENCE TEACHER POST SECONDARY    690000.0\n",
       "Technical Data Analyst                     746323.0\n",
       "Name: PAID_WAGE_PER_YEAR, dtype: float64"
      ]
     },
     "execution_count": 20,
     "metadata": {},
     "output_type": "execute_result"
    }
   ],
   "source": [
    "salary_data.groupby('JOB_TITLE')['PAID_WAGE_PER_YEAR'].mean().sort_values(ascending=True).tail(5)"
   ]
  },
  {
   "cell_type": "code",
   "execution_count": 21,
   "id": "2c38165e",
   "metadata": {},
   "outputs": [
    {
     "data": {
      "text/plain": [
       "JOB_TITLE\n",
       "ELECTRONIC AND COMPUTER TEACHER             17451.2\n",
       "MUSIC TEACHER (DOUBLE BASS)                 17490.0\n",
       "EDUCATION TEACHER                           17680.0\n",
       "FOREIGN LANGUAGE TEACHER / ADMINISTRATOR    17680.0\n",
       "PRE-KINDERGARTEN TEACHER ASSISTANT          18300.0\n",
       "Name: PAID_WAGE_PER_YEAR, dtype: float64"
      ]
     },
     "execution_count": 21,
     "metadata": {},
     "output_type": "execute_result"
    }
   ],
   "source": [
    "salary_data.groupby('JOB_TITLE')['PAID_WAGE_PER_YEAR'].mean().sort_values(ascending=True).head(5)"
   ]
  },
  {
   "cell_type": "code",
   "execution_count": 20,
   "id": "3ea1ec68",
   "metadata": {},
   "outputs": [
    {
     "data": {
      "text/plain": [
       "JOB_TITLE_SUBGROUP\n",
       "teacher                   46039.985507\n",
       "data analyst              70030.078688\n",
       "business analyst          71300.079566\n",
       "software engineer         92505.303013\n",
       "assistant professor       94876.713707\n",
       "data scientist           108021.038248\n",
       "management consultant    108251.334662\n",
       "attorney                 146413.596714\n",
       "Name: PAID_WAGE_PER_YEAR, dtype: float64"
      ]
     },
     "execution_count": 20,
     "metadata": {},
     "output_type": "execute_result"
    }
   ],
   "source": [
    "salary_data.groupby('JOB_TITLE_SUBGROUP')['PAID_WAGE_PER_YEAR'].mean().sort_values(ascending=True)"
   ]
  },
  {
   "cell_type": "code",
   "execution_count": 22,
   "id": "0458e884",
   "metadata": {},
   "outputs": [
    {
     "data": {
      "text/plain": [
       "0         False\n",
       "1         False\n",
       "2         False\n",
       "3         False\n",
       "4          True\n",
       "          ...  \n",
       "167273    False\n",
       "167274    False\n",
       "167275    False\n",
       "167276    False\n",
       "167277    False\n",
       "Name: PAID_WAGE_PER_YEAR, Length: 167278, dtype: bool"
      ]
     },
     "execution_count": 22,
     "metadata": {},
     "output_type": "execute_result"
    }
   ],
   "source": [
    "salary_data['PAID_WAGE_PER_YEAR'] >= 100000.0"
   ]
  },
  {
   "cell_type": "code",
   "execution_count": null,
   "id": "ace883ca",
   "metadata": {},
   "outputs": [],
   "source": [
    "state_counts = salary_data['WORK_STATE'].value_counts()\n",
    "high_counts = state_counts[state_counts >= 10000]"
   ]
  },
  {
   "cell_type": "code",
   "execution_count": 24,
   "id": "813785a6",
   "metadata": {},
   "outputs": [
    {
     "name": "stderr",
     "output_type": "stream",
     "text": [
      "C:\\Users\\daysg\\AppData\\Local\\Temp\\ipykernel_3144\\3664696334.py:4: UserWarning: FixedFormatter should only be used together with FixedLocator\n",
      "  ax.set_xticklabels(labels=high_counts.index, rotation=80);\n"
     ]
    },
    {
     "data": {
      "image/png": "[encoded data removed]",
      "text/plain": [
       "<Figure size 1500x600 with 1 Axes>"
      ]
     },
     "metadata": {},
     "output_type": "display_data"
    }
   ],
   "source": [
    "fig, ax = plt.subplots(figsize=(15, 6))\n",
    "\n",
    "ax.bar(x=high_counts.index, height=high_counts)\n",
    "ax.set_xticklabels(labels=high_counts.index, rotation=80);"
   ]
  },
  {
   "cell_type": "code",
   "execution_count": 34,
   "id": "21b1c81f",
   "metadata": {},
   "outputs": [
    {
     "name": "stdout",
     "output_type": "stream",
     "text": [
      "JOB_TITLE_SUBGROUP\n",
      "assistant professor      55350.886796\n",
      "attorney                 91326.411022\n",
      "business analyst         59356.259678\n",
      "data analyst             59861.359354\n",
      "data scientist           89799.037408\n",
      "management consultant    47947.593416\n",
      "software engineer        82212.129471\n",
      "teacher                  37829.948856\n",
      "Name: PREVAILING_WAGE_SUBMITTED, dtype: float64\n"
     ]
    }
   ],
   "source": [
    "hour_wage = salary_data[salary_data['PREVAILING_WAGE_SUBMITTED_UNIT'] == 'year']\n",
    "hour_wage = salary_data.groupby('JOB_TITLE_SUBGROUP')['PREVAILING_WAGE_SUBMITTED'].mean()\n",
    "                                \n",
    "print(hour_wage)"
   ]
  },
  {
   "cell_type": "code",
   "execution_count": 35,
   "id": "98072d48",
   "metadata": {},
   "outputs": [
    {
     "name": "stdout",
     "output_type": "stream",
     "text": [
      "JOB_TITLE_SUBGROUP\n",
      "assistant professor      50660.0\n",
      "attorney                 85956.0\n",
      "business analyst         60507.0\n",
      "data analyst             59550.0\n",
      "data scientist           89107.0\n",
      "management consultant    57470.5\n",
      "software engineer        80922.5\n",
      "teacher                  40680.0\n",
      "Name: PREVAILING_WAGE_SUBMITTED, dtype: float64\n"
     ]
    }
   ],
   "source": [
    "hour2_wage = salary_data[salary_data['PREVAILING_WAGE_SUBMITTED_UNIT'] == 'year']\n",
    "hour2_wage = salary_data.groupby('JOB_TITLE_SUBGROUP')['PREVAILING_WAGE_SUBMITTED'].median()\n",
    "                                \n",
    "print(hour2_wage)"
   ]
  },
  {
   "cell_type": "code",
   "execution_count": null,
   "id": "13ae2cc7",
   "metadata": {},
   "outputs": [],
   "source": []
  }
 ],
 "metadata": {
  "kernelspec": {
   "display_name": "Python 3 (ipykernel)",
   "language": "python",
   "name": "python3"
  },
  "language_info": {
   "codemirror_mode": {
    "name": "ipython",
    "version": 3
   },
   "file_extension": ".py",
   "mimetype": "text/x-python",
   "name": "python",
   "nbconvert_exporter": "python",
   "pygments_lexer": "ipython3",
   "version": "3.11.4"
  }
 },
 "nbformat": 4,
 "nbformat_minor": 5
}
